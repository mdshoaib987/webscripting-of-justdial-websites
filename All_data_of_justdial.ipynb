{
 "cells": [
  {
   "cell_type": "code",
   "execution_count": 1,
   "metadata": {},
   "outputs": [
    {
     "name": "stdout",
     "output_type": "stream",
     "text": [
      "Mobile\n",
      "+91\n"
     ]
    }
   ],
   "source": [
    "import selenium\n",
    "from selenium import webdriver\n",
    "\n",
    "\n",
    "# create a new Firefox session\n",
    "driver = webdriver.Firefox()\n",
    "driver.implicitly_wait(30)\n",
    "driver.maximize_window()\n",
    "\n",
    "# Navigate to the application home page\n",
    "driver.get(\"https://www.justdial.com/Delhi/Automotive-Lubricant-Dealers/nct-10574354\")\n",
    "\n",
    "driver.implicitly_wait(20)\n",
    "\n",
    "alllink = driver.find_elements_by_xpath('//*[@class=\"lng_cont_name\"]')\n",
    "link_list =[]\n",
    "for d in alllink:\n",
    "   link_list.append(d.text)\n",
    "\n",
    "\n",
    "for i in link_list:\n",
    "\n",
    "   b2b = driver.find_element_by_link_text(i)\n",
    "   driver.implicitly_wait(20)\n",
    "\n",
    "   b2b.click()\n",
    "\n",
    "   automobie = driver.find_element_by_link_text('Edit This')\n",
    "   driver.implicitly_wait(20)\n",
    "   automobie.click()\n",
    "\n",
    "   edit = driver.find_element_by_link_text('Edit / Modify this business')\n",
    "   driver.implicitly_wait(20)\n",
    "   edit.click()\n",
    "\n",
    "   driver.implicitly_wait(30)\n",
    "   driver.find_element_by_id(\"rdoUser\").click()\n",
    "   #\n",
    "   driver.implicitly_wait(20)\n",
    "   driver.find_elements_by_xpath('//*[@id=\"cat\"]/button')[0].click()\n",
    "\n",
    "   try :\n",
    "\n",
    "       varify = driver.find_element_by_xpath('//*[@id=\"userotp\"]/section/section/p[2]/span[1]')\n",
    "       print(varify.text)\n",
    "\n",
    "   except selenium.common.exceptions.NoSuchElementException:\n",
    "        pass\n",
    "\n",
    "   if varify:\n",
    "      driver.back()\n",
    "      driver.back()\n",
    "\n",
    "   elif varify is None:\n",
    "\n",
    "      inputs = driver.find_elements_by_xpath('//form[@name=\"os_home\"]//input')\n",
    "      for data in inputs:\n",
    "\n",
    "         print(data.get_attribute('value'))\n",
    "\n",
    "      formValue = driver.find_element_by_xpath('//*[@id=\"colcontent\"]/div[1]/p[10]/span/span[2]')\n",
    "      print(formValue.text)\n",
    "\n",
    "      edit = driver.find_element_by_link_text('Contact Information')\n",
    "      driver.implicitly_wait(20)\n",
    "      edit.click()\n",
    "\n",
    "      inputs = driver.find_elements_by_xpath('//form[@name=\"os_home\"]//input')\n",
    "      for data in inputs:\n",
    "          print(data.get_attribute('value'))\n",
    "\n",
    "      driver.back()\n",
    "      driver.back()\n",
    "      driver.back()\n",
    "\n",
    "      print('Its worked')\n",
    "\n",
    "   else:\n",
    "      print(\"Unable to locate Elements\")"
   ]
  },
  {
   "cell_type": "code",
   "execution_count": null,
   "metadata": {},
   "outputs": [],
   "source": []
  }
 ],
 "metadata": {
  "kernelspec": {
   "display_name": "Python 3",
   "language": "python",
   "name": "python3"
  },
  "language_info": {
   "codemirror_mode": {
    "name": "ipython",
    "version": 3
   },
   "file_extension": ".py",
   "mimetype": "text/x-python",
   "name": "python",
   "nbconvert_exporter": "python",
   "pygments_lexer": "ipython3",
   "version": "3.7.3"
  }
 },
 "nbformat": 4,
 "nbformat_minor": 2
}
